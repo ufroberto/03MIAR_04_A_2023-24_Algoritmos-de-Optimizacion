{
 "cells": [
  {
   "cell_type": "markdown",
   "id": "a3c9c419",
   "metadata": {},
   "source": [
    "### Actividad Guiada 1\n",
    "### Roberto García Gómez"
   ]
  },
  {
   "cell_type": "markdown",
   "id": "c9638970",
   "metadata": {},
   "source": [
    "### Torres de Hanoi\n"
   ]
  },
  {
   "cell_type": "code",
   "execution_count": null,
   "id": "18ec4763",
   "metadata": {},
   "outputs": [],
   "source": [
    "###poner PDF con la url de github\n",
    "def torres_h(origen,destino,pivote):\n",
    "    if(len(origen)==1):\n",
    "        destino.append(origen.pop())\n",
    "        return\n",
    "    torres_h(origen, pivote, destino)\n",
    "    destino.append(origen.pop())\n",
    "    torres_h(pivote, destino, origen)\n",
    "\n",
    "\n",
    "origen=[1,2,3,4]\n",
    "destino=[]\n",
    "pivote=[]\n",
    "    \n",
    "print(origen)\n",
    "print(pivote)\n",
    "print(destino)\n",
    "    \n",
    "torres_h(origen,destino,pivote)\n",
    "\n",
    "print(origen)\n",
    "print(pivote)\n",
    "print(destino)\n"
   ]
  },
  {
   "cell_type": "code",
   "execution_count": 2,
   "id": "45351da3",
   "metadata": {},
   "outputs": [
    {
     "name": "stdout",
     "output_type": "stream",
     "text": [
      "Mover bloque desde 1 a 2\n",
      "Mover bloque desde 1 a 3\n",
      "Mover bloque desde 2 a 3\n",
      "Mover bloque desde 1 a 2\n",
      "Mover bloque desde 3 a 1\n",
      "Mover bloque desde 3 a 2\n",
      "Mover bloque desde 1 a 2\n",
      "Mover bloque desde 1 a 3\n",
      "Mover bloque desde 2 a 3\n",
      "Mover bloque desde 2 a 1\n",
      "Mover bloque desde 3 a 1\n",
      "Mover bloque desde 2 a 3\n",
      "Mover bloque desde 1 a 2\n",
      "Mover bloque desde 1 a 3\n",
      "Mover bloque desde 2 a 3\n"
     ]
    }
   ],
   "source": [
    "##foro ¿qué complejidad tiene el algoritmo?\n",
    "## torres hanoi profesor\n",
    "##subir actividad exportada a PDF guiada al enlace aportado\n",
    "\n",
    "def torres_hanoi(N, origen, destino, pivote):\n",
    "    if (N==1):\n",
    "        print(f'Mover bloque desde {origen} a {destino}')\n",
    "        return\n",
    "    torres_hanoi(N-1, origen, pivote, destino)\n",
    "    print(f'Mover bloque desde {origen} a {destino}')\n",
    "    torres_hanoi(N-1, pivote, destino, origen)\n",
    "    \n",
    "torres_hanoi(4,1,3,2)"
   ]
  },
  {
   "cell_type": "markdown",
   "id": "47d3f4f3",
   "metadata": {},
   "source": [
    "### ALGORITMO VORAZ CAMBIO DE MONEDAS"
   ]
  },
  {
   "cell_type": "code",
   "execution_count": 3,
   "id": "7bc363f6",
   "metadata": {},
   "outputs": [
    {
     "name": "stdout",
     "output_type": "stream",
     "text": [
      "SISTEMA:\n",
      "[25, 10, 5, 1]\n"
     ]
    },
    {
     "data": {
      "text/plain": [
       "[2, 0, 0, 4]"
      ]
     },
     "execution_count": 3,
     "metadata": {},
     "output_type": "execute_result"
    }
   ],
   "source": [
    "#2 PARÁMETROS, CANTIDAD A CALCULAR Y SISTEMA MONETARIO\n",
    "#Ejemplo: cantidad: 10 sistema (ordenado): [25, 10, 5, 1] \n",
    "#tenemos infinitas monedas\n",
    "#nombre función: cambio_monedas\n",
    "\n",
    "def cambio_moneda(cantidad, sistema):\n",
    "    print(\"SISTEMA:\" )\n",
    "    print(sistema)\n",
    "    solucion = [0 for i in range(len(sistema))] #lista de 0s   \n",
    "    valor_acumulado = 0\n",
    "    for i in range(len(sistema)):\n",
    "        monedas=int((cantidad-valor_acumulado)/sistema[i])\n",
    "        solucion[i]=monedas\n",
    "        valor_acumulado += monedas*sistema[i]\n",
    "        if(valor_acumulado==cantidad):\n",
    "            break\n",
    "    return solucion\n",
    "\n",
    "sistema = [25,10,5,1]\n",
    "cambio_moneda(54, sistema)"
   ]
  },
  {
   "cell_type": "markdown",
   "id": "3e5fb003",
   "metadata": {},
   "source": [
    "### Encontrar los dos puntos más cercanos"
   ]
  },
  {
   "cell_type": "code",
   "execution_count": null,
   "id": "98e704eb",
   "metadata": {},
   "outputs": [],
   "source": [
    "##suponer en 1d, en 2d, en 3d AG1 ACTIVIDAD GUIADA 1\n",
    "#ver el pdf de la actividad"
   ]
  }
 ],
 "metadata": {
  "kernelspec": {
   "display_name": "Python 3 (ipykernel)",
   "language": "python",
   "name": "python3"
  },
  "language_info": {
   "codemirror_mode": {
    "name": "ipython",
    "version": 3
   },
   "file_extension": ".py",
   "mimetype": "text/x-python",
   "name": "python",
   "nbconvert_exporter": "python",
   "pygments_lexer": "ipython3",
   "version": "3.9.9"
  }
 },
 "nbformat": 4,
 "nbformat_minor": 5
}
