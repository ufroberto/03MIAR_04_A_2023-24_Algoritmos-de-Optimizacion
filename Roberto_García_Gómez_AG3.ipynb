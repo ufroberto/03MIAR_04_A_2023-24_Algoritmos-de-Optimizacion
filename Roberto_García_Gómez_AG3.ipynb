{
 "cells": [
  {
   "cell_type": "code",
   "execution_count": 3,
   "id": "68005573",
   "metadata": {},
   "outputs": [],
   "source": [
    "#vamos a usar swiss42\n",
    "import tsplib95 #módulo de tsp, para problemas como el del agente viajero\n",
    "import random  #nºs aleatorios\n",
    "import math\n",
    "from math import e #cte e\n",
    "import copy #copia profunda\n",
    "\n",
    "import urllib.request"
   ]
  },
  {
   "cell_type": "code",
   "execution_count": 4,
   "id": "f8ad3fab",
   "metadata": {},
   "outputs": [],
   "source": [
    "file = 'swiss42.tsp'\n",
    "#urllib.request.urlretrieve('http://comopt.ifi.uni-heidelberg.de/software/TSPLIB95/tsp/swiss42.tsp.gz', file + '.gz')\n",
    "##!gzip -d swiss.tsp.gz ##usamos extraer de zip (windows)\n"
   ]
  },
  {
   "cell_type": "code",
   "execution_count": 5,
   "id": "9bc95736",
   "metadata": {},
   "outputs": [],
   "source": [
    "problem = tsplib95.load(file) #tsplib95.load_problem(file)"
   ]
  },
  {
   "cell_type": "code",
   "execution_count": 6,
   "id": "b102834c",
   "metadata": {},
   "outputs": [
    {
     "name": "stdout",
     "output_type": "stream",
     "text": [
      "nodos: 42 aristas: 1764\n",
      "15\n"
     ]
    }
   ],
   "source": [
    "Nodos = list(problem.get_nodes())\n",
    "Aristas = list(problem.get_edges())\n",
    "print(\"nodos: \" + str(len(Nodos)) + \" aristas: \" + str(len(Aristas)))\n",
    "print(problem.get_weight(0, 1))"
   ]
  },
  {
   "cell_type": "code",
   "execution_count": 7,
   "id": "de4b636c",
   "metadata": {},
   "outputs": [
    {
     "data": {
      "text/plain": [
       "['__class__',\n",
       " '__delattr__',\n",
       " '__dict__',\n",
       " '__dir__',\n",
       " '__doc__',\n",
       " '__eq__',\n",
       " '__format__',\n",
       " '__ge__',\n",
       " '__getattribute__',\n",
       " '__gt__',\n",
       " '__hash__',\n",
       " '__init__',\n",
       " '__init_subclass__',\n",
       " '__le__',\n",
       " '__lt__',\n",
       " '__module__',\n",
       " '__ne__',\n",
       " '__new__',\n",
       " '__reduce__',\n",
       " '__reduce_ex__',\n",
       " '__repr__',\n",
       " '__setattr__',\n",
       " '__sizeof__',\n",
       " '__str__',\n",
       " '__subclasshook__',\n",
       " '__weakref__',\n",
       " '_create_explicit_matrix',\n",
       " '_create_wfunc',\n",
       " '_defaults',\n",
       " '_special',\n",
       " '_wfunc',\n",
       " 'as_dict',\n",
       " 'as_keyword_dict',\n",
       " 'as_name_dict',\n",
       " 'comment',\n",
       " 'dimension',\n",
       " 'edge_weight_format',\n",
       " 'edge_weight_type',\n",
       " 'edge_weights',\n",
       " 'fields_by_keyword',\n",
       " 'fields_by_name',\n",
       " 'get_display',\n",
       " 'get_edges',\n",
       " 'get_graph',\n",
       " 'get_nodes',\n",
       " 'get_weight',\n",
       " 'is_complete',\n",
       " 'is_depictable',\n",
       " 'is_explicit',\n",
       " 'is_full_matrix',\n",
       " 'is_special',\n",
       " 'is_symmetric',\n",
       " 'is_weighted',\n",
       " 'keywords_by_name',\n",
       " 'load',\n",
       " 'name',\n",
       " 'names_by_keyword',\n",
       " 'parse',\n",
       " 'read',\n",
       " 'render',\n",
       " 'save',\n",
       " 'special',\n",
       " 'trace_canonical_tour',\n",
       " 'trace_tours',\n",
       " 'type',\n",
       " 'validate',\n",
       " 'write']"
      ]
     },
     "execution_count": 7,
     "metadata": {},
     "output_type": "execute_result"
    }
   ],
   "source": [
    "dir(problem) # funciones, que podemos consultar en la doc"
   ]
  },
  {
   "cell_type": "code",
   "execution_count": 8,
   "id": "026b2014",
   "metadata": {},
   "outputs": [],
   "source": [
    "#la mejor solución al problema (de swiss42.tsp) es, casi seguro: 1273\n",
    "def crear_solucion(Nodos):\n",
    "    solucion = [Nodos[0]]\n",
    "    for n in Nodos[1:]:\n",
    "        solucion = solucion + [random.choice(list(set(Nodos) - set(solucion)))]\n",
    "    return solucion\n",
    "\n",
    "def distancia(a, b, problem):\n",
    "    return problem.get_weight(a,b)\n",
    "\n",
    "def distancia_total(solucion, problem):\n",
    "    distancia_total = 0\n",
    "    for i in range(len(solucion)-1):\n",
    "        distancia_total += distancia(solucion[i], solucion[i+1], problem)\n",
    "    return distancia_total + distancia(solucion[len(solucion)-1], solucion[0], problem)"
   ]
  },
  {
   "cell_type": "code",
   "execution_count": 9,
   "id": "6698d50e",
   "metadata": {},
   "outputs": [
    {
     "data": {
      "text/plain": [
       "4790"
      ]
     },
     "execution_count": 9,
     "metadata": {},
     "output_type": "execute_result"
    }
   ],
   "source": [
    "distancia_total(crear_solucion(Nodos), problem)"
   ]
  },
  {
   "cell_type": "code",
   "execution_count": 10,
   "id": "7f64fdb7",
   "metadata": {},
   "outputs": [
    {
     "name": "stdout",
     "output_type": "stream",
     "text": [
      "MEJOR SOLUCIÓN:  [0, 8, 41, 23, 24, 21, 14, 16, 18, 9, 29, 22, 20, 12, 25, 11, 28, 26, 27, 39, 38, 30, 13, 33, 34, 32, 15, 19, 17, 1, 3, 10, 6, 37, 40, 2, 7, 36, 5, 4, 35, 31]\n",
      "DISTANCIA:  3688\n"
     ]
    }
   ],
   "source": [
    "#búsqueda aleatoria\n",
    "def busqueda_aleatoria(problem, N):\n",
    "    Nodos = list(problem.get_nodes())\n",
    "    mejor_solucion = []\n",
    "    mejor_distancia = float('inf')\n",
    "    \n",
    "    for i in range(N):\n",
    "        solucion = crear_solucion(Nodos)\n",
    "        distancia = distancia_total(solucion, problem)\n",
    "        if distancia < mejor_distancia:\n",
    "            mejor_solucion = solucion\n",
    "            mejor_distancia = distancia\n",
    "            \n",
    "    \n",
    "    print(\"MEJOR SOLUCIÓN: \", mejor_solucion)\n",
    "    print(\"DISTANCIA: \", mejor_distancia)\n",
    "    return mejor_solucion\n",
    "\n",
    "solucion = busqueda_aleatoria(problem, 5000)\n",
    "        "
   ]
  },
  {
   "cell_type": "code",
   "execution_count": 11,
   "id": "d0dee307",
   "metadata": {},
   "outputs": [],
   "source": [
    "#búsqueda local\n",
    "def genera_vecina(solucion):\n",
    "    mejor_solucion = []\n",
    "    mejor_distancia = 10e100\n",
    "    for i in range(1, len(solucion)-1):\n",
    "        for j in range(i+1, len(solucion)):\n",
    "            #se genera una nueva solución intercambiando los 2 nodos\n",
    "            #i,j usamos el operador + que concatena listas en python:\n",
    "            vecina = solucion[:i] + [solucion[j]] + solucion[i+1:j] + [solucion[i]] + solucion[j+1:]\n",
    "            #se evalúa la nueva solución\n",
    "            distancia_vecina = distancia_total(vecina, problem)\n",
    "            #y se guarda si mejora las anteriores\n",
    "            if distancia_vecina <= mejor_distancia:\n",
    "                mejor_distancia = distancia_vecina\n",
    "                mejor_solucion = vecina\n",
    "    return mejor_solucion"
   ]
  },
  {
   "cell_type": "code",
   "execution_count": 12,
   "id": "e9605add",
   "metadata": {},
   "outputs": [
    {
     "name": "stdout",
     "output_type": "stream",
     "text": [
      "Distancia solución inicial:  3688\n",
      "Distancia solución local: 3431\n"
     ]
    }
   ],
   "source": [
    "#a partir de la solución aleatoria anterior, hago esta mejora:\n",
    "print(\"Distancia solución inicial: \", distancia_total(solucion, problem))\n",
    "\n",
    "nueva_solucion = genera_vecina(solucion)\n",
    "print(\"Distancia solución local:\", distancia_total(nueva_solucion, problem))"
   ]
  },
  {
   "cell_type": "code",
   "execution_count": 13,
   "id": "82c5de6e",
   "metadata": {},
   "outputs": [
    {
     "name": "stdout",
     "output_type": "stream",
     "text": [
      "en la it 41 , la mejor solución encontrada es:  [0, 22, 39, 9, 8, 4, 6, 5, 19, 13, 26, 18, 12, 11, 25, 10, 29, 30, 34, 32, 1, 7, 35, 36, 37, 15, 16, 14, 17, 31, 20, 33, 38, 24, 40, 21, 23, 41, 28, 2, 27, 3]\n",
      "Distancia : 1812\n"
     ]
    }
   ],
   "source": [
    "def busqueda_local(problem):\n",
    "    mejor_solucion = []\n",
    "    #genero sol inicial\n",
    "    solucion_referencia = crear_solucion(Nodos)\n",
    "    mejor_distancia = distancia_total(solucion_referencia, problem)\n",
    "    \n",
    "    iteracion = 0\n",
    "    while(1):\n",
    "        iteracion+=1\n",
    "        vecina = genera_vecina(solucion_referencia)\n",
    "        distancia_vecina = distancia_total(vecina, problem)\n",
    "        if(distancia_vecina < mejor_distancia):\n",
    "            mejor_solucion = vecina\n",
    "            mejor_distancia = distancia_vecina\n",
    "        else:\n",
    "            print(\"en la it\", iteracion, \", la mejor solución encontrada es: \", mejor_solucion)\n",
    "            print(\"Distancia :\", mejor_distancia)\n",
    "            return mejor_solucion\n",
    "        solucion_referencia = vecina\n",
    "        \n",
    "sol = busqueda_local(problem)\n",
    "            "
   ]
  },
  {
   "cell_type": "code",
   "execution_count": null,
   "id": "7266165f",
   "metadata": {},
   "outputs": [],
   "source": [
    "## https://www.sciencedirect.com/science/article/abs/pii/S0377221705008507\n",
    "## https://www.researchgate.net/publication/222562743_A_simple_and_effective_iterated_greedy_algorithm_for_the_permutation_flowshop_scheduling_problem\n",
    "## "
   ]
  }
 ],
 "metadata": {
  "kernelspec": {
   "display_name": "Python 3 (ipykernel)",
   "language": "python",
   "name": "python3"
  },
  "language_info": {
   "codemirror_mode": {
    "name": "ipython",
    "version": 3
   },
   "file_extension": ".py",
   "mimetype": "text/x-python",
   "name": "python",
   "nbconvert_exporter": "python",
   "pygments_lexer": "ipython3",
   "version": "3.9.9"
  }
 },
 "nbformat": 4,
 "nbformat_minor": 5
}
